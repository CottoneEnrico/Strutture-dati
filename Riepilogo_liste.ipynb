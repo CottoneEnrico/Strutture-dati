{
  "nbformat": 4,
  "nbformat_minor": 0,
  "metadata": {
    "colab": {
      "provenance": []
    },
    "kernelspec": {
      "name": "python3",
      "display_name": "Python 3"
    },
    "language_info": {
      "name": "python"
    }
  },
  "cells": [
    {
      "cell_type": "code",
      "execution_count": null,
      "metadata": {
        "id": "WFDk7Wv7Cxr_"
      },
      "outputs": [],
      "source": [
        "# Riepilogo sulle liste"
      ]
    },
    {
      "cell_type": "markdown",
      "source": [
        "Questo notebook contiene informazioni fondamentali per lavorare sulle liste\n",
        "\n",
        "Definizione di una lista:\n",
        "\n",
        "Una lista è un raggruppamento di valori/struttura di dati dinamica utilizzata per conservare dati in modo non permanente. (salvataggio nella RAM)\n",
        "\n",
        "Dinamico significa che la dimensioni non deve essere predefinita\n",
        "Non permanente significa che i dati memorizzati nella lista vengono cancellati una volta che il programma viene chiuso"
      ],
      "metadata": {
        "id": "1npRC6vZDMrB"
      }
    },
    {
      "cell_type": "code",
      "source": [
        "\"\"\"\n",
        "1.+Inizializzazione di una lista\n",
        "\n",
        "2. Inserimento di elementi\n",
        "\n",
        "3. Visualizzazione di una lista\n",
        "\n",
        "4. Rimozione elementi di una lista\n",
        "\n",
        "5. Aggiunta di un elemento in una lista\n",
        "\n",
        "6. Visualizzazione di uno o più elementi in una lista\n",
        "\n",
        "7. Trovare valore minimo e massimo in una lista\n",
        "\n",
        "8. Effettuare operazioni su degli elementi in una lista\n",
        "\n",
        "9. Ordinare gli elementi di una lista (Crescente e decrescente)\n",
        "\n",
        "\"\"\"\n",
        "\n",
        "# 1.\n",
        "lista = [1, 2, 3, 4, 5, 6, 7, 8, 9]\n",
        "\n",
        "# 2.\n",
        "lista.append(10)\n",
        "lista.extend([11, 12, 23])\n",
        "lista.insert(5, 20)\n",
        "\n",
        "# 3.\n",
        "print(lista)\n",
        "\n",
        "# 4.\n",
        "lista.remove(10) # Rimuove la prima occorrenza del numero scritto nelle parentesi\n",
        "# or\n",
        "lista.pop(10) # Rimuove la prima occorrenza del numero trovato tramite index (posizione nella lista) scritto nelle parentesi\n",
        "# or\n",
        "del lista[10] # Rimuove la prima occorrenza del numero trovato tramite index (posizione nella lista) scritto nelle parentesi\n",
        "\n",
        "# 5.\n",
        "\n",
        "lista.append(10)\n",
        "lista.extend([11, 12, 23])\n",
        "lista.insert(5, 20)\n",
        "\n",
        "# 6. \n",
        "\n",
        "print(lista[4]) # Si mette 4 perchè l'index inizia da 0\n",
        "\n",
        "print(lista[4:8]) # Slicing, mostra dalla posizione 4 alle posizione 8 della lista\n",
        "\n",
        "print(lista[4:8:2]) # Slicing, mostra dalla posizione 4 alle posizione 8 della lista a due a due\n",
        "\n",
        "print(lista[4:]) # Dalla posizione 3 in poi\n",
        "print(lista[:4]) # Tutti i valori prima della posizione 3\n",
        "print(lista[::4]) # Mostra tutti i valori a 4 a 4\n",
        "\n",
        "\n",
        "# 7.\n",
        "\n",
        "\n",
        "\n",
        "\n",
        "print(min(lista))\n",
        "print(max(lista))\n",
        "\n",
        "# 8.\n",
        "from statistics import mean\n",
        "\n",
        "print(mean(lista))\n",
        "print(len(lista))\n",
        "\n",
        "# 9.\n",
        "\n",
        "lista.sort()\n",
        "print(lista)"
      ],
      "metadata": {
        "id": "IwI2q1GMFBoQ"
      },
      "execution_count": null,
      "outputs": []
    }
  ]
}