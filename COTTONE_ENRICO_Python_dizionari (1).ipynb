{
  "nbformat": 4,
  "nbformat_minor": 0,
  "metadata": {
    "colab": {
      "provenance": []
    },
    "kernelspec": {
      "name": "python3",
      "display_name": "Python 3"
    },
    "language_info": {
      "name": "python"
    }
  },
  "cells": [
    {
      "cell_type": "code",
      "source": [
        "dizionarioITEN = {'uno': 'one', 'due': 'two', 'tre': 'three', 'quattro': 'four'}\n",
        "dizionarioITEN"
      ],
      "metadata": {
        "colab": {
          "base_uri": "https://localhost:8080/"
        },
        "id": "87BikGKrh_3J",
        "outputId": "4c30d95d-f6ee-4467-ae68-a6cb7d936a55"
      },
      "execution_count": null,
      "outputs": [
        {
          "output_type": "execute_result",
          "data": {
            "text/plain": [
              "{'uno': 'one', 'due': 'two', 'tre': 'three', 'quattro': 'four'}"
            ]
          },
          "metadata": {},
          "execution_count": 2
        }
      ]
    },
    {
      "cell_type": "code",
      "source": [
        "dizionarioITEN = dict(uno = 'one', due = 'two', tre = 'three', quattro = 'four')\n",
        "dizionarioITEN"
      ],
      "metadata": {
        "colab": {
          "base_uri": "https://localhost:8080/"
        },
        "id": "KCVnF4VShfdQ",
        "outputId": "c74d9955-1f42-480e-d806-d8da8c402ed4"
      },
      "execution_count": null,
      "outputs": [
        {
          "output_type": "execute_result",
          "data": {
            "text/plain": [
              "{'uno': 'one', 'due': 'two', 'tre': 'three', 'quattro': 'four'}"
            ]
          },
          "metadata": {},
          "execution_count": 3
        }
      ]
    },
    {
      "cell_type": "code",
      "source": [
        "dizionarioITEN = dict([('uno', 'one'), ('due', 'two'), ('tre', 'three'), ('quattro', 'four')])\n",
        "dizionarioITEN"
      ],
      "metadata": {
        "colab": {
          "base_uri": "https://localhost:8080/"
        },
        "id": "t2WjPDoDiKrb",
        "outputId": "972c91a5-ae86-4fcd-9c1d-4f6d07f44372"
      },
      "execution_count": null,
      "outputs": [
        {
          "output_type": "execute_result",
          "data": {
            "text/plain": [
              "{'uno': 'one', 'due': 'two', 'tre': 'three', 'quattro': 'four'}"
            ]
          },
          "metadata": {},
          "execution_count": 4
        }
      ]
    },
    {
      "cell_type": "code",
      "source": [
        "numeriItaliani = ['uno', 'due', 'tre', 'quattro']"
      ],
      "metadata": {
        "id": "M2FygeFxdPkW"
      },
      "execution_count": null,
      "outputs": []
    },
    {
      "cell_type": "code",
      "source": [
        "englishNumbers = ['one', 'two', 'three', 'four']"
      ],
      "metadata": {
        "id": "rP_0WP6-dYv2"
      },
      "execution_count": null,
      "outputs": []
    },
    {
      "cell_type": "code",
      "source": [
        "dizionarioITEN = dict((numeroItaliano, englishNumber) for numeroItaliano, englishNumber in zip(numeriItaliani, englishNumbers))\n",
        "dizionarioITEN"
      ],
      "metadata": {
        "colab": {
          "base_uri": "https://localhost:8080/"
        },
        "id": "YD2XVuoEdgsg",
        "outputId": "e08f14bb-7500-4d10-9982-1bf0dc312d7c"
      },
      "execution_count": null,
      "outputs": [
        {
          "output_type": "execute_result",
          "data": {
            "text/plain": [
              "{'uno': 'one', 'due': 'two', 'tre': 'three', 'quattro': 'four'}"
            ]
          },
          "metadata": {},
          "execution_count": 7
        }
      ]
    },
    {
      "cell_type": "code",
      "source": [
        "len(dizionarioITEN)"
      ],
      "metadata": {
        "colab": {
          "base_uri": "https://localhost:8080/"
        },
        "id": "T8XFfup8gwut",
        "outputId": "217a0216-1736-4f32-d2dc-af4a713131de"
      },
      "execution_count": null,
      "outputs": [
        {
          "output_type": "execute_result",
          "data": {
            "text/plain": [
              "4"
            ]
          },
          "metadata": {},
          "execution_count": 8
        }
      ]
    },
    {
      "cell_type": "code",
      "source": [
        "dizionarioITEN['cinque'] = 'five'\n",
        "dizionarioITEN"
      ],
      "metadata": {
        "colab": {
          "base_uri": "https://localhost:8080/"
        },
        "id": "S4hCQZrseBBU",
        "outputId": "2c7a6a27-0e13-46cf-c13d-fa08cd00efee"
      },
      "execution_count": null,
      "outputs": [
        {
          "output_type": "execute_result",
          "data": {
            "text/plain": [
              "{'uno': 'one',\n",
              " 'due': 'two',\n",
              " 'tre': 'three',\n",
              " 'quattro': 'four',\n",
              " 'cinque': 'five'}"
            ]
          },
          "metadata": {},
          "execution_count": 9
        }
      ]
    },
    {
      "cell_type": "code",
      "source": [
        "dizionarioITEN['due']"
      ],
      "metadata": {
        "colab": {
          "base_uri": "https://localhost:8080/",
          "height": 36
        },
        "id": "RHIH5t1WeMS7",
        "outputId": "adb3a411-2763-49a7-e375-5a09d4b9ef18"
      },
      "execution_count": null,
      "outputs": [
        {
          "output_type": "execute_result",
          "data": {
            "text/plain": [
              "'two'"
            ],
            "application/vnd.google.colaboratory.intrinsic+json": {
              "type": "string"
            }
          },
          "metadata": {},
          "execution_count": 10
        }
      ]
    },
    {
      "cell_type": "code",
      "source": [
        "dizionarioITEN['dues']"
      ],
      "metadata": {
        "colab": {
          "base_uri": "https://localhost:8080/",
          "height": 171
        },
        "id": "arVcDDIbeTZ7",
        "outputId": "421f762d-7a62-47d1-f260-da568da089aa"
      },
      "execution_count": null,
      "outputs": [
        {
          "output_type": "error",
          "ename": "KeyError",
          "evalue": "ignored",
          "traceback": [
            "\u001b[0;31m---------------------------------------------------------------------------\u001b[0m",
            "\u001b[0;31mKeyError\u001b[0m                                  Traceback (most recent call last)",
            "\u001b[0;32m<ipython-input-11-5dbd321857d1>\u001b[0m in \u001b[0;36m<module>\u001b[0;34m\u001b[0m\n\u001b[0;32m----> 1\u001b[0;31m \u001b[0mdizionarioITEN\u001b[0m\u001b[0;34m[\u001b[0m\u001b[0;34m'dues'\u001b[0m\u001b[0;34m]\u001b[0m\u001b[0;34m\u001b[0m\u001b[0;34m\u001b[0m\u001b[0m\n\u001b[0m",
            "\u001b[0;31mKeyError\u001b[0m: 'dues'"
          ]
        }
      ]
    },
    {
      "cell_type": "code",
      "source": [
        "if 'dues' in dizionarioITEN.keys():\n",
        "  print(dizionarioITEN['dues'])\n",
        "else:\n",
        "  print('chiave non presente')"
      ],
      "metadata": {
        "colab": {
          "base_uri": "https://localhost:8080/"
        },
        "id": "Dtv3BR8Mei31",
        "outputId": "1cc0ef90-eeae-4b4a-9806-33f0b21dffd1"
      },
      "execution_count": null,
      "outputs": [
        {
          "output_type": "stream",
          "name": "stdout",
          "text": [
            "chiave non presente\n"
          ]
        }
      ]
    },
    {
      "cell_type": "code",
      "source": [
        "if 'dues' in dizionarioITEN:\n",
        "  print(dizionarioITEN['dues'])\n",
        "else:\n",
        "  print('chiave non presente')"
      ],
      "metadata": {
        "colab": {
          "base_uri": "https://localhost:8080/"
        },
        "id": "BTHNollLf8jD",
        "outputId": "49198b78-f1cc-49fd-c945-7547dbcd602e"
      },
      "execution_count": null,
      "outputs": [
        {
          "output_type": "stream",
          "name": "stdout",
          "text": [
            "chiave non presente\n"
          ]
        }
      ]
    },
    {
      "cell_type": "code",
      "source": [
        "dizionarioITEN.get('dues', 'chiave non presente')"
      ],
      "metadata": {
        "colab": {
          "base_uri": "https://localhost:8080/",
          "height": 36
        },
        "id": "QwYcz9Mqi8GV",
        "outputId": "c23eba1c-078b-47db-9ef7-a14d2e8e76dd"
      },
      "execution_count": null,
      "outputs": [
        {
          "output_type": "execute_result",
          "data": {
            "text/plain": [
              "'chiave non presente'"
            ],
            "application/vnd.google.colaboratory.intrinsic+json": {
              "type": "string"
            }
          },
          "metadata": {},
          "execution_count": 14
        }
      ]
    },
    {
      "cell_type": "code",
      "source": [
        "dizionarioITEN.setdefault('sei', 'six')"
      ],
      "metadata": {
        "colab": {
          "base_uri": "https://localhost:8080/",
          "height": 36
        },
        "id": "XpbsodFTjiq1",
        "outputId": "82f7b140-10dd-44f4-e5d5-4e9fda44d053"
      },
      "execution_count": null,
      "outputs": [
        {
          "output_type": "execute_result",
          "data": {
            "text/plain": [
              "'six'"
            ],
            "application/vnd.google.colaboratory.intrinsic+json": {
              "type": "string"
            }
          },
          "metadata": {},
          "execution_count": 22
        }
      ]
    },
    {
      "cell_type": "code",
      "source": [
        "if 'two' in dizionarioITEN.values():\n",
        "  print('valore presente')\n",
        "else:\n",
        "  print('valore non presente')"
      ],
      "metadata": {
        "colab": {
          "base_uri": "https://localhost:8080/"
        },
        "id": "W3mMv40Nebqk",
        "outputId": "ba835184-36f4-46d5-cb78-efb8a536a374"
      },
      "execution_count": null,
      "outputs": [
        {
          "output_type": "stream",
          "name": "stdout",
          "text": [
            "valore presente\n"
          ]
        }
      ]
    },
    {
      "cell_type": "code",
      "source": [
        "for number in dizionarioITEN.values():\n",
        "  print(number)"
      ],
      "metadata": {
        "colab": {
          "base_uri": "https://localhost:8080/"
        },
        "id": "V7hk9LhFff15",
        "outputId": "1bcceea5-dabe-44f8-ef0f-e5b605c72ca5"
      },
      "execution_count": null,
      "outputs": [
        {
          "output_type": "stream",
          "name": "stdout",
          "text": [
            "one\n",
            "two\n",
            "three\n",
            "four\n",
            "five\n",
            "six\n"
          ]
        }
      ]
    },
    {
      "cell_type": "code",
      "source": [
        "for numero, number in dizionarioITEN.items():\n",
        "  print(numero, '-', number)"
      ],
      "metadata": {
        "colab": {
          "base_uri": "https://localhost:8080/"
        },
        "id": "PduutaFzfpVE",
        "outputId": "206ccdaf-d3c8-4b7b-cb0b-b21184f75993"
      },
      "execution_count": null,
      "outputs": [
        {
          "output_type": "stream",
          "name": "stdout",
          "text": [
            "uno - one\n",
            "due - two\n",
            "tre - three\n",
            "quattro - four\n",
            "cinque - five\n",
            "sei - six\n"
          ]
        }
      ]
    },
    {
      "cell_type": "code",
      "source": [
        "for numero in dizionarioITEN:\n",
        "  print(numero, '-', dizionarioITEN[numero])"
      ],
      "metadata": {
        "colab": {
          "base_uri": "https://localhost:8080/"
        },
        "id": "jJ9JxcqZgN4V",
        "outputId": "fb25071d-92cf-4465-f8d5-4f947de9d454"
      },
      "execution_count": null,
      "outputs": [
        {
          "output_type": "stream",
          "name": "stdout",
          "text": [
            "uno - one\n",
            "due - two\n",
            "tre - three\n",
            "quattro - four\n",
            "cinque - five\n",
            "sei - six\n"
          ]
        }
      ]
    },
    {
      "cell_type": "code",
      "source": [
        "studenti3E = [\n",
        "    {\n",
        "     \"Nome\": \"Enrico\",\n",
        "     \"Citta'\": \"Bollate\"\n",
        "    },\n",
        "\n",
        "    {\n",
        "     \"Nome\": \"Filippo\",\n",
        "     \"Citta'\": \"Milano\"\n",
        "    },\n",
        "\n",
        "    {\n",
        "    \"Nome\": \"Leonardo\",\n",
        "     \"Citta'\": \"Sesto San Giovanni\"\n",
        "    }\n",
        "\n",
        "]\n",
        "\n",
        "len(studenti3E)\n",
        "for datiStudente in studenti3E:\n",
        "  print(datiStudente[\"Nome\"])"
      ],
      "metadata": {
        "colab": {
          "base_uri": "https://localhost:8080/"
        },
        "id": "HVKI72qqEpE7",
        "outputId": "1bd03040-d19c-4f64-d860-c7e8e335cf02"
      },
      "execution_count": null,
      "outputs": [
        {
          "output_type": "stream",
          "name": "stdout",
          "text": [
            "Enrico\n",
            "Filippo\n",
            "Leonardo\n"
          ]
        }
      ]
    },
    {
      "cell_type": "code",
      "source": [
        "studenti3Ebis = [\n",
        "    {\n",
        "      \"Generalita'\": {\n",
        "        \"Nome\": \"Enrico\",\n",
        "        \"Cognome\": \"Cottone\",\n",
        "        \"Citta'\": \"Bollate\"\n",
        "      }\n",
        "    },\n",
        "\n",
        "    {\n",
        "      \"Generalita'\": {\n",
        "        \"Nome\": \"Filippo\",\n",
        "        \"Cognome\": \"Neri\",\n",
        "        \"Citta'\": \"Milano\"\n",
        "      }\n",
        "    },\n",
        "\n",
        "    {\n",
        "      \"Generalita'\": {\n",
        "        \"Nome\": \"Leonardo\",\n",
        "        \"Cognome\": \"D'arienzo\",\n",
        "        \"Citta'\": \"Sesto San Giovanni\"\n",
        "      }\n",
        "    },\n",
        "\n",
        "]\n",
        "\n",
        "for datiStudenti in studenti3Ebis:\n",
        "  print(datiStudenti[\"Generalita'\"][\"Nome\"])\n",
        "print(studenti3Ebis[1][\"Generalita'\"][\"Nome\"])"
      ],
      "metadata": {
        "colab": {
          "base_uri": "https://localhost:8080/"
        },
        "id": "3-2ZdAa0KWYq",
        "outputId": "ea8e81a7-855d-4562-d666-9310f20aa2a9"
      },
      "execution_count": null,
      "outputs": [
        {
          "output_type": "stream",
          "name": "stdout",
          "text": [
            "Enrico\n",
            "Filippo\n",
            "Leonardo\n",
            "Filippo\n"
          ]
        }
      ]
    },
    {
      "cell_type": "code",
      "source": [
        "studenti3Etris = [\n",
        "    {\n",
        "      \"Generalita'\": {\n",
        "        \"Nome\": \"Enrico\",\n",
        "        \"Cognome\": \"Cottone\",\n",
        "        \"Citta'\": \"Bollate\"\n",
        "      },\n",
        "     \"Telefono\": [\"3515669949\",\"3515542392\"]\n",
        "    },\n",
        "\n",
        "    {\n",
        "      \"Generalita'\": {\n",
        "        \"Nome\": \"Filippo\",\n",
        "        \"Cognome\": \"Neri\",\n",
        "        \"Citta'\": \"Milano\"\n",
        "      },\n",
        "     \"Telefono\": [\"3515669949\",\"3515542392\"]\n",
        "    },\n",
        "\n",
        "    {\n",
        "      \"Generalita'\": {\n",
        "        \"Nome\": \"Leonardo\",\n",
        "        \"Cognome\": \"D'arienzo\",\n",
        "        \"Citta'\": \"Sesto San Giovanni\",\n",
        "      },\n",
        "     \"Telefono\": [\"3515669949\",\"3515542392\"]\n",
        "    },\n",
        "\n",
        "]\n",
        "print(studenti3Etris)"
      ],
      "metadata": {
        "colab": {
          "base_uri": "https://localhost:8080/"
        },
        "id": "tJ10tXnJMpy1",
        "outputId": "76803902-bb91-4849-9563-f0364b5d00c5"
      },
      "execution_count": null,
      "outputs": [
        {
          "output_type": "stream",
          "name": "stdout",
          "text": [
            "[{\"Generalita'\": {'Nome': 'Enrico', 'Cognome': 'Cottone', \"Citta'\": 'Bollate'}, 'Telefono': ['3515669949', '3515542392']}, {\"Generalita'\": {'Nome': 'Filippo', 'Cognome': 'Neri', \"Citta'\": 'Milano'}, 'Telefono': ['3515669949', '3515542392']}, {\"Generalita'\": {'Nome': 'Leonardo', 'Cognome': \"D'arienzo\", \"Citta'\": 'Sesto San Giovanni'}, 'Telefono': ['3515669949', '3515542392']}]\n"
          ]
        }
      ]
    }
  ]
}