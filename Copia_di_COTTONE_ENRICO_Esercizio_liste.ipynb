{
  "nbformat": 4,
  "nbformat_minor": 0,
  "metadata": {
    "colab": {
      "provenance": []
    },
    "kernelspec": {
      "name": "python3",
      "display_name": "Python 3"
    },
    "language_info": {
      "name": "python"
    }
  },
  "cells": [
    {
      "cell_type": "markdown",
      "source": [
        "#Esercizio 1"
      ],
      "metadata": {
        "id": "F1InHJmbdM6X"
      }
    },
    {
      "cell_type": "markdown",
      "source": [
        "Cercare su internet le infomrazioni riguardanti le statistiche sui casi di COVID nelle regioni italiane (casi totali) e memorizzarli in opportune struttture dati. Scrivere poi le istruzioni per avere le seguenti informazioni:\n",
        "\n"
      ],
      "metadata": {
        "id": "QhSL9Ve9bdnO"
      }
    },
    {
      "cell_type": "markdown",
      "source": [
        "1. il numero totale di casi di COVID in ITalia"
      ],
      "metadata": {
        "id": "xkMF7u4fcPHU"
      }
    },
    {
      "cell_type": "code",
      "source": [
        "regioni    = [\"Abruzzo\", \"Basilicata\", \"Calabria\", \"Campania\", \"Emilia-Romagna\", \"Friuli Venezia Giulia\", \"Lazio\", \"Liguria\", \"Lombardia\", \"Marche\", \"Molise\", \"Piemonte\", \"Puglia\", \"Sardegna\", \"Sicilia\", \"Toscana\", \"Trentino-Alto Adige\", \"Umbria\", \"Valle d'Aosta\", \"Veneto\"]\n",
        "casiTotaliRegioni = [571000,    186000,       567000,     2260000,    1900000,          506000,                  2110000, 587000,    3660000,     636000,   91703,    1530000,    1490000,  456000,     1660000,   1430000,   272000,                387000,   45876,           2330000 ]\n",
        "casiTotali = sum(casiTotaliRegioni)\n",
        "print(casiTotali)"
      ],
      "metadata": {
        "id": "_FhU3WWPcSc0",
        "colab": {
          "base_uri": "https://localhost:8080/"
        },
        "outputId": "2a9c91da-8c76-40ca-86b5-9c8a0057b34e"
      },
      "execution_count": null,
      "outputs": [
        {
          "output_type": "stream",
          "name": "stdout",
          "text": [
            "22675579\n"
          ]
        }
      ]
    },
    {
      "cell_type": "markdown",
      "source": [
        "2. il numero medio di casi di COVID in Italia"
      ],
      "metadata": {
        "id": "cEbSqa1FcTQs"
      }
    },
    {
      "cell_type": "code",
      "source": [
        "from statistics import mean\n",
        "medCase = mean(casiTotaliRegioni)\n",
        "print(medCase)"
      ],
      "metadata": {
        "id": "g1IbY5N7cW10",
        "colab": {
          "base_uri": "https://localhost:8080/"
        },
        "outputId": "28856acd-1d9f-4d25-f8c3-aad8429ba0e1"
      },
      "execution_count": null,
      "outputs": [
        {
          "output_type": "stream",
          "name": "stdout",
          "text": [
            "1133778.95\n"
          ]
        }
      ]
    },
    {
      "cell_type": "markdown",
      "source": [
        "3. le regioni che hanno avuto un numero di casi superiore alla media"
      ],
      "metadata": {
        "id": "RV60Rp2DcXJ1"
      }
    },
    {
      "cell_type": "code",
      "source": [
        "for i in casiTotaliRegioni:\n",
        "  if i > medCase:\n",
        "    print(regioni[casiTotaliRegioni.index(i)], \" | \", i)"
      ],
      "metadata": {
        "id": "MVte31bQcbva",
        "colab": {
          "base_uri": "https://localhost:8080/"
        },
        "outputId": "bf59a28d-f3d2-4571-c7eb-2e8a156d1eeb"
      },
      "execution_count": null,
      "outputs": [
        {
          "output_type": "stream",
          "name": "stdout",
          "text": [
            "Campania  |  2260000\n",
            "Emilia-Romagna  |  1900000\n",
            "Lazio  |  2110000\n",
            "Lombardia  |  3660000\n",
            "Piemonte  |  1530000\n",
            "Puglia  |  1490000\n",
            "Sicilia  |  1660000\n",
            "Toscana  |  1430000\n",
            "Veneto  |  2330000\n"
          ]
        }
      ]
    },
    {
      "cell_type": "markdown",
      "source": [
        "4. la percentuale di casi di COVID nelle varie regioni rispetto al totale italiano. Caricare questi dati in un'altra lista"
      ],
      "metadata": {
        "id": "qcz6bUGqccXh"
      }
    },
    {
      "cell_type": "code",
      "source": [
        "percentuali = []\n",
        "\n",
        "for i in casiTotaliRegioni:\n",
        "  calc = (i / casiTotali) * 100\n",
        "  print(regioni[casiTotaliRegioni.index(i)], \" | \", round(calc,2),\"%\")"
      ],
      "metadata": {
        "id": "wZAeQZUrcpup",
        "colab": {
          "base_uri": "https://localhost:8080/"
        },
        "outputId": "f2de6b46-bb73-4b9a-dd4c-a4aeb55370f8"
      },
      "execution_count": null,
      "outputs": [
        {
          "output_type": "stream",
          "name": "stdout",
          "text": [
            "Abruzzo  |  2.52 %\n",
            "Basilicata  |  0.82 %\n",
            "Calabria  |  2.5 %\n",
            "Campania  |  9.97 %\n",
            "Emilia-Romagna  |  8.38 %\n",
            "Friuli Venezia Giulia  |  2.23 %\n",
            "Lazio  |  9.31 %\n",
            "Liguria  |  2.59 %\n",
            "Lombardia  |  16.14 %\n",
            "Marche  |  2.8 %\n",
            "Molise  |  0.4 %\n",
            "Piemonte  |  6.75 %\n",
            "Puglia  |  6.57 %\n",
            "Sardegna  |  2.01 %\n",
            "Sicilia  |  7.32 %\n",
            "Toscana  |  6.31 %\n",
            "Trentino-Alto Adige  |  1.2 %\n",
            "Umbria  |  1.71 %\n",
            "Valle d'Aosta  |  0.2 %\n",
            "Veneto  |  10.28 %\n"
          ]
        }
      ]
    },
    {
      "cell_type": "markdown",
      "source": [
        "Cercare adesso la popolazione delle varie regioni italiane e caricare i dati in una opportuna struttura dati."
      ],
      "metadata": {
        "id": "NsxW5y1NcqHj"
      }
    },
    {
      "cell_type": "code",
      "source": [
        "popolazioniRegioni = [1269928,   538196,       1835563,    5571931,    4433177,          1195317,                 5709263, 1503902,   9964136,     1485960,  289498,   4241884,    3900822,  1571194,    4780210,   3669191,   1078746,                857019,  122981,          4847242 ]"
      ],
      "metadata": {
        "id": "0ey1FJW4cwtS"
      },
      "execution_count": null,
      "outputs": []
    },
    {
      "cell_type": "markdown",
      "source": [
        "5. trovare, per ogni regione, la percentuale di casi sul totale della popolazione di quella regione: caricare i dati in un'altra lista che ha avuto più casi in rapporto alla popolazione"
      ],
      "metadata": {
        "id": "O08u1Y_mcxFr"
      }
    },
    {
      "cell_type": "code",
      "source": [
        "caseMax = []\n",
        "dati = []\n",
        "\n",
        "for i in casiTotaliRegioni:\n",
        "  populazione = popolazioniRegioni[casiTotaliRegioni.index(i)]\n",
        "\n",
        "  calcolo = (i / populazione) * 100\n",
        "  \n",
        "  print(regioni[casiTotaliRegioni.index(i)], \" | \", round(calcolo, 2),\"%\")\n",
        "  dati.append(round(calcolo))\n",
        "print(dati, \"%\")\n",
        "caseMax.append(max(dati))\n",
        "print(caseMax)\n",
        "\n",
        "#------------------#\n",
        "\n",
        "percMax = max(dati)\n",
        "print(regioni[dati.index(percMax)])"
      ],
      "metadata": {
        "id": "JLt5Ey_Wc-Pp",
        "colab": {
          "base_uri": "https://localhost:8080/"
        },
        "outputId": "5e05734e-6647-4de8-f532-95ef9e25f40d"
      },
      "execution_count": null,
      "outputs": [
        {
          "output_type": "stream",
          "name": "stdout",
          "text": [
            "Abruzzo  |  44.96 %\n",
            "Basilicata  |  34.56 %\n",
            "Calabria  |  30.89 %\n",
            "Campania  |  40.56 %\n",
            "Emilia-Romagna  |  42.86 %\n",
            "Friuli Venezia Giulia  |  42.33 %\n",
            "Lazio  |  36.96 %\n",
            "Liguria  |  39.03 %\n",
            "Lombardia  |  36.73 %\n",
            "Marche  |  42.8 %\n",
            "Molise  |  31.68 %\n",
            "Piemonte  |  36.07 %\n",
            "Puglia  |  38.2 %\n",
            "Sardegna  |  29.02 %\n",
            "Sicilia  |  34.73 %\n",
            "Toscana  |  38.97 %\n",
            "Trentino-Alto Adige  |  25.21 %\n",
            "Umbria  |  45.16 %\n",
            "Valle d'Aosta  |  37.3 %\n",
            "Veneto  |  48.07 %\n",
            "[45, 35, 31, 41, 43, 42, 37, 39, 37, 43, 32, 36, 38, 29, 35, 39, 25, 45, 37, 48] %\n",
            "[48]\n",
            "Veneto\n"
          ]
        }
      ]
    },
    {
      "cell_type": "markdown",
      "source": [
        "6. trovare la regione che ha avuto meno casi in relazione alla popolazione"
      ],
      "metadata": {
        "id": "uULjwtSVc-pc"
      }
    },
    {
      "cell_type": "code",
      "source": [
        "caseMin = []\n",
        "caseMin.append(min(dati))\n",
        "\n",
        "print(regioni[dati.index(min(dati))])\n",
        "\n",
        "\n",
        "# Stesso metodo di es 1. 5 ma invertito"
      ],
      "metadata": {
        "id": "b11IAXxHdC-h",
        "colab": {
          "base_uri": "https://localhost:8080/"
        },
        "outputId": "aa5e1166-dd01-40bd-e16d-8eed89934b26"
      },
      "execution_count": null,
      "outputs": [
        {
          "output_type": "stream",
          "name": "stdout",
          "text": [
            "Trentino-Alto Adige\n"
          ]
        }
      ]
    },
    {
      "cell_type": "markdown",
      "source": [
        "#Esercizio 2"
      ],
      "metadata": {
        "id": "lDj-tyLwdDTh"
      }
    },
    {
      "cell_type": "markdown",
      "source": [
        "1. Creare due liste di 20 numeri casuali interi, compresi tra 1 e 10 non utilizzzando la list comprehension. Determinare il tempo di esecuzione di questo programma"
      ],
      "metadata": {
        "id": "HiNbJe-ldQTC"
      }
    },
    {
      "cell_type": "code",
      "source": [
        "import time\n",
        "import random\n",
        "start_time = time.time()\n",
        "listaA = []\n",
        "listaB = []\n",
        "\n",
        "for i in range(1,21):\n",
        "  listaA.append(random.randint(1,10))\n",
        "  listaB.append(random.randint(1,10))\n",
        "print(listaA)\n",
        "print(listaB)\n",
        "print(\"%s seconds\" % (time.time() - start_time))\n"
      ],
      "metadata": {
        "id": "hruqXxVAdWHr",
        "colab": {
          "base_uri": "https://localhost:8080/"
        },
        "outputId": "2d67d1a6-9382-46af-efc4-d78802dc19b1"
      },
      "execution_count": null,
      "outputs": [
        {
          "output_type": "stream",
          "name": "stdout",
          "text": [
            "[5, 2, 9, 4, 5, 7, 9, 5, 2, 6, 9, 9, 1, 7, 5, 3, 1, 9, 1, 1]\n",
            "[7, 6, 6, 6, 2, 6, 6, 8, 7, 1, 8, 9, 3, 6, 9, 3, 1, 10, 2, 8]\n",
            "0.0017135143280029297 seconds\n"
          ]
        }
      ]
    },
    {
      "cell_type": "markdown",
      "source": [
        "2. Creare due liste di 20 numeri casuali interi, compresi tra 1 e 10  utilizzzando la list comprehension. Determinare il tempo di esecuzione di questo programma\n"
      ],
      "metadata": {
        "id": "wu_rcB1-dWgK"
      }
    },
    {
      "cell_type": "code",
      "source": [
        "start_time = time.time()\n",
        "listaA = [random.randint(1,10) for i in range(1,21)]\n",
        "listaB = [random.randint(1,10) for i in range(1,21)]\n",
        "print(listaA)\n",
        "print(listaB)\n",
        "print(\"%s seconds\" % (time.time() - start_time))"
      ],
      "metadata": {
        "id": "rqz-1n7qdx3A",
        "colab": {
          "base_uri": "https://localhost:8080/"
        },
        "outputId": "a1983076-29fa-4510-d129-fe0c58f21191"
      },
      "execution_count": null,
      "outputs": [
        {
          "output_type": "stream",
          "name": "stdout",
          "text": [
            "[9, 10, 4, 5, 4, 10, 8, 3, 5, 4, 8, 6, 1, 3, 8, 2, 7, 10, 8, 7]\n",
            "[5, 4, 9, 1, 2, 1, 1, 10, 5, 9, 5, 7, 4, 5, 7, 6, 7, 2, 7, 4]\n",
            "0.005782365798950195 seconds\n"
          ]
        }
      ]
    },
    {
      "cell_type": "markdown",
      "source": [
        "3. creare una terza lista di valore booleani: inserire un valore vero se il primo elemento della prima lista è maggiore del primo elemento della seconda lista e così via per tutti gli elemeni delle due liste"
      ],
      "metadata": {
        "id": "ep4BmOYddyIi"
      }
    },
    {
      "cell_type": "code",
      "source": [
        "import random\n",
        "listaC = []\n",
        "for i in range(1,6):\n",
        "  listaC.append(random.choice([False, True]))\n",
        "if listaA[0] > listaB[0]:\n",
        "  listaC.append(True)\n",
        "  print(listaC)"
      ],
      "metadata": {
        "id": "838ZxBNVeCfn",
        "colab": {
          "base_uri": "https://localhost:8080/"
        },
        "outputId": "bd2067b1-c92e-454f-ccae-323d2737cb16"
      },
      "execution_count": null,
      "outputs": [
        {
          "output_type": "stream",
          "name": "stdout",
          "text": [
            "[False, True, True, False, False, True]\n"
          ]
        }
      ]
    },
    {
      "cell_type": "markdown",
      "source": [
        "4. utilizzando la terza lista, contare quanti sono gli elementi della prima lista che sono maggiori della seconda lista"
      ],
      "metadata": {
        "id": "pJcj5hNVeC4b"
      }
    },
    {
      "cell_type": "code",
      "source": [
        "count = 0\n",
        "\n",
        "for i in listaA:\n",
        "    if i > listaB[i]:\n",
        "      count += 1\n",
        "print(count)"
      ],
      "metadata": {
        "id": "ZOdPph2WeMBg",
        "outputId": "d51c1adb-81db-4683-9e3f-c433f5f09bfb",
        "colab": {
          "base_uri": "https://localhost:8080/"
        }
      },
      "execution_count": null,
      "outputs": [
        {
          "output_type": "stream",
          "name": "stdout",
          "text": [
            "4\n"
          ]
        }
      ]
    },
    {
      "cell_type": "markdown",
      "source": [
        "5. eliminare dalla seconda lista tutti gli elementi minori rispetto a quelli \n",
        "\n",
        "*   Voce elenco\n",
        "*   Voce elenco\n",
        "\n",
        "della prima lista, inserendoli in una quarta lista"
      ],
      "metadata": {
        "id": "9KHq-xy7eMYO"
      }
    },
    {
      "cell_type": "code",
      "source": [
        "listaD = []\n",
        "print(listaB)\n",
        "print(listaA)\n",
        "try:\n",
        "  for i in listaB:\n",
        "      if i < listaA[i]:\n",
        "        listaB.pop(i)\n",
        "        listaD.append(i)\n",
        "except ValueError:\n",
        "  print(\"Valore non nella lista\")\n",
        "print(listaB)\n",
        "print(listaA)\n",
        "print(listaD)"
      ],
      "metadata": {
        "id": "VfgmqLmteRbD",
        "colab": {
          "base_uri": "https://localhost:8080/"
        },
        "outputId": "79ea7ffb-d1f7-4a02-c704-51beaecde1d7"
      },
      "execution_count": null,
      "outputs": [
        {
          "output_type": "stream",
          "name": "stdout",
          "text": [
            "[7, 6, 6, 6, 2, 6, 6, 8, 7, 1, 8, 9, 3, 6, 9, 3, 1, 10, 2, 8]\n",
            "[5, 2, 9, 4, 5, 7, 9, 5, 2, 6, 9, 9, 1, 7, 5, 3, 1, 9, 1, 1]\n",
            "[7, 6, 8, 9, 3, 6, 9, 3, 1, 10, 2, 8]\n",
            "[5, 2, 9, 4, 5, 7, 9, 5, 2, 6, 9, 9, 1, 7, 5, 3, 1, 9, 1, 1]\n",
            "[6, 6, 6, 2, 1, 3, 3, 2]\n"
          ]
        }
      ]
    },
    {
      "cell_type": "markdown",
      "source": [
        "6. svutoare tutte e quattro le liste"
      ],
      "metadata": {
        "id": "R83H7_oheRzI"
      }
    },
    {
      "cell_type": "code",
      "source": [
        "listaA.clear()\n",
        "listaB.clear()\n",
        "listaC.clear()\n",
        "listaD.clear()"
      ],
      "metadata": {
        "id": "iPDbfgW2efAJ"
      },
      "execution_count": null,
      "outputs": []
    }
  ]
}