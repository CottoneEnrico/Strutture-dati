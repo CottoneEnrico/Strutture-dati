{
  "nbformat": 4,
  "nbformat_minor": 0,
  "metadata": {
    "colab": {
      "provenance": []
    },
    "kernelspec": {
      "name": "python3",
      "display_name": "Python 3"
    },
    "language_info": {
      "name": "python"
    }
  },
  "cells": [
    {
      "cell_type": "code",
      "execution_count": null,
      "metadata": {
        "colab": {
          "base_uri": "https://localhost:8080/"
        },
        "id": "kP0_kfNOGM2m",
        "outputId": "f0f78ca3-8d5f-4d9a-a805-6883cd9fd01e"
      },
      "outputs": [
        {
          "output_type": "stream",
          "name": "stdout",
          "text": [
            "3\n",
            "dict_keys(['nome', 'cognome', 'età'])\n"
          ]
        }
      ],
      "source": [
        "cottone = {\n",
        "    \"nome\": \"Enrico\",\n",
        "    \"cognome\": \"Cottone\",\n",
        "    \"età\": 16\n",
        "}\n",
        "\n",
        "print(len(cottone.keys()))\n",
        "print(cottone.keys())"
      ]
    }
  ]
}