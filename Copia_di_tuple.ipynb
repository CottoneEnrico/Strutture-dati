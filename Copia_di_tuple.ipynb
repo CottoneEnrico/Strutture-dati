{
  "nbformat": 4,
  "nbformat_minor": 0,
  "metadata": {
    "colab": {
      "provenance": []
    },
    "kernelspec": {
      "name": "python3",
      "display_name": "Python 3"
    },
    "language_info": {
      "name": "python"
    }
  },
  "cells": [
    {
      "cell_type": "markdown",
      "source": [
        "Una tupla è una struttura dati ordinata e non modificabile.\n",
        "Si forma con le parentesi tonde"
      ],
      "metadata": {
        "id": "WlzLmIS0IjE-"
      }
    },
    {
      "cell_type": "code",
      "execution_count": null,
      "metadata": {
        "colab": {
          "base_uri": "https://localhost:8080/"
        },
        "id": "xrs6oTdqIhSZ",
        "outputId": "6d8e072c-135c-487d-85a6-4513a116a594"
      },
      "outputs": [
        {
          "output_type": "stream",
          "name": "stdout",
          "text": [
            "(1, 2, 3, 4, 5)\n"
          ]
        }
      ],
      "source": [
        "tupla1=(1,2,3,4,5)\n",
        "print(tupla1)"
      ]
    },
    {
      "cell_type": "code",
      "source": [
        "ins = {\"banana\", \"pesca\", \"mela\", \"pera\"}\n",
        "ins1 = {\"banana\", \"kiwi\", \"uva\", \"ciliegia\"}\n",
        "print(ins)\n",
        "inComune = ins.intersection(ins1)\n",
        "\n",
        "print(f\"L'insieme 'ins' e l'insieme 'ins1' hanno la frutta: {inComune} in comune nei loro gusti!\")\n",
        "print(ins)\n",
        "print(f\"Tutti i frutti che piacciono ad entrambi sono: {ins.union(ins1)}\")\n",
        "print(ins.difference(ins1))\n",
        "\n",
        "def add(n1, n2):\n",
        "  return n1 + n2\n",
        "print(add(5,555))"
      ],
      "metadata": {
        "id": "ExrMo5EA0E-M",
        "outputId": "20f87f29-e389-4917-a70b-35661f418d2e",
        "colab": {
          "base_uri": "https://localhost:8080/"
        }
      },
      "execution_count": null,
      "outputs": [
        {
          "output_type": "stream",
          "name": "stdout",
          "text": [
            "{'pera', 'mela', 'pesca', 'banana'}\n",
            "L'insieme 'ins' e l'insieme 'ins1' hanno la frutta: {'banana'} in comune nei loro gusti!\n",
            "{'pera', 'mela', 'pesca', 'banana'}\n",
            "Tutti i frutti che piacciono ad entrambi sono: {'mela', 'ciliegia', 'banana', 'pesca', 'uva', 'kiwi', 'pera'}\n",
            "{'mela', 'pesca', 'pera'}\n",
            "560\n"
          ]
        }
      ]
    },
    {
      "cell_type": "code",
      "source": [
        "dizionario = {\n",
        "    \"nome\": \"Enrico\",\n",
        "    \"cognome\": \"Cottone\"\n",
        "}\n",
        "print(dizionario)"
      ],
      "metadata": {
        "id": "nADehmAt6X1D",
        "outputId": "d03f1718-b5e3-4fad-c6f5-18a70663ffea",
        "colab": {
          "base_uri": "https://localhost:8080/"
        }
      },
      "execution_count": null,
      "outputs": [
        {
          "output_type": "stream",
          "name": "stdout",
          "text": [
            "{'nome': 'Enrico', 'cognome': 'Cottone'}\n"
          ]
        }
      ]
    },
    {
      "cell_type": "markdown",
      "source": [
        "Gli elementi tuple sono ordinati, non modificabili e consentono valori duplicati. \n",
        "Sono indecizzate infatti il primo elemento della tuple ha valore di index \"0\""
      ],
      "metadata": {
        "id": "ipkJhBmCI_Nh"
      }
    },
    {
      "cell_type": "markdown",
      "source": [
        "Le tuple non sono modificabili, il che significa che non possiamo modificare, aggiungere o rimuovere elementi dopo che la tupla è stata creata."
      ],
      "metadata": {
        "id": "IwTzuVcvJVAO"
      }
    },
    {
      "cell_type": "markdown",
      "source": [
        "quindi se ci serisse un vettore non modificabile non useremmo list ma una tupla"
      ],
      "metadata": {
        "id": "xugJ-ADBOy_e"
      }
    },
    {
      "cell_type": "code",
      "source": [
        "tupla1.append(1) #non funziona perché non e modificabile"
      ],
      "metadata": {
        "id": "1LlJlKyiJVq7",
        "outputId": "52dcad48-4ef7-443b-cb5c-8523b01e30c9",
        "colab": {
          "base_uri": "https://localhost:8080/",
          "height": 171
        }
      },
      "execution_count": null,
      "outputs": [
        {
          "output_type": "error",
          "ename": "AttributeError",
          "evalue": "ignored",
          "traceback": [
            "\u001b[0;31m---------------------------------------------------------------------------\u001b[0m",
            "\u001b[0;31mAttributeError\u001b[0m                            Traceback (most recent call last)",
            "\u001b[0;32m<ipython-input-2-0adf8d7d1fb1>\u001b[0m in \u001b[0;36m<module>\u001b[0;34m\u001b[0m\n\u001b[0;32m----> 1\u001b[0;31m \u001b[0mtupla1\u001b[0m\u001b[0;34m.\u001b[0m\u001b[0mappend\u001b[0m\u001b[0;34m(\u001b[0m\u001b[0;36m1\u001b[0m\u001b[0;34m)\u001b[0m \u001b[0;31m#non funziona perché non e modificabile\u001b[0m\u001b[0;34m\u001b[0m\u001b[0;34m\u001b[0m\u001b[0m\n\u001b[0m",
            "\u001b[0;31mAttributeError\u001b[0m: 'tuple' object has no attribute 'append'"
          ]
        }
      ]
    },
    {
      "cell_type": "markdown",
      "source": [
        "Per creare una tupla con un solo elemento, devi aggiungere una virgola dopo l'elemento"
      ],
      "metadata": {
        "id": "17w_dMJBJffa"
      }
    },
    {
      "cell_type": "code",
      "source": [
        "tupla2=(\"prova\",)\n",
        "print(type(tupla2))\n",
        "print(tupla2)\n",
        "tupla2=(\"prova\")\n",
        "print(type(tupla2))\n"
      ],
      "metadata": {
        "colab": {
          "base_uri": "https://localhost:8080/"
        },
        "id": "4GrFb8JrJkfd",
        "outputId": "48825b3b-5952-4d1d-bee3-2bc43f8f18dc"
      },
      "execution_count": null,
      "outputs": [
        {
          "output_type": "stream",
          "name": "stdout",
          "text": [
            "<class 'tuple'>\n",
            "('prova',)\n",
            "<class 'str'>\n"
          ]
        }
      ]
    },
    {
      "cell_type": "markdown",
      "source": [
        "puo cotenere tutti i tipi di dati, pure tutti insieme in ua sola tuple"
      ],
      "metadata": {
        "id": "3a8fc9BcJ2Kz"
      }
    },
    {
      "cell_type": "code",
      "source": [
        "tupla3=(\"ciao\", 1, True,2,\"hello\")\n",
        "print(tupla3)"
      ],
      "metadata": {
        "colab": {
          "base_uri": "https://localhost:8080/"
        },
        "id": "mhTnPFWrKCJU",
        "outputId": "8eeb1576-21b6-450f-f6eb-d2cd796f9774"
      },
      "execution_count": null,
      "outputs": [
        {
          "output_type": "stream",
          "name": "stdout",
          "text": [
            "('ciao', 1, True, 2, 'hello')\n"
          ]
        }
      ]
    },
    {
      "cell_type": "markdown",
      "source": [
        "si puo usare anche la funzione \"tuple()\" per crearne una "
      ],
      "metadata": {
        "id": "kR5O8doSKOyx"
      }
    },
    {
      "cell_type": "code",
      "source": [
        "pluto = [1, 0 ,2]\n",
        "prova=tuple(pluto)\n",
        "print(prova)\n",
        "print(pluto)\n",
        "pluto.extend([2])\n",
        "print(pluto)\n",
        "print(prova)"
      ],
      "metadata": {
        "colab": {
          "base_uri": "https://localhost:8080/"
        },
        "id": "uhSPoWKZKakf",
        "outputId": "28a2d304-c93a-4549-a330-f61e3eafbd03"
      },
      "execution_count": null,
      "outputs": [
        {
          "output_type": "stream",
          "name": "stdout",
          "text": [
            "(1, 0, 2)\n",
            "[1, 0, 2]\n",
            "[1, 0, 2, 2]\n",
            "(1, 0, 2)\n"
          ]
        }
      ]
    },
    {
      "cell_type": "markdown",
      "source": [
        "**esercizio**"
      ],
      "metadata": {
        "id": "ESPs7Z07KoZ7"
      }
    },
    {
      "cell_type": "markdown",
      "source": [
        "generare 20 numeri casuali non uguali che varino da 1 a 100, poi inserirli in una struttura dati adeguata che non sia modificabile."
      ],
      "metadata": {
        "id": "MkXAk5PwLajy"
      }
    },
    {
      "cell_type": "code",
      "source": [
        "import random \n",
        "lista0 = random.sample(range(1,100),20) \n",
        "print(lista0)"
      ],
      "metadata": {
        "id": "kFSkqCyMPIUe",
        "colab": {
          "base_uri": "https://localhost:8080/"
        },
        "outputId": "1c788469-b7cc-4348-e7fd-26e948bc1e21"
      },
      "execution_count": null,
      "outputs": [
        {
          "output_type": "stream",
          "name": "stdout",
          "text": [
            "[70, 26, 15, 2, 40, 88, 54, 52, 62, 78, 4, 99, 45, 94, 7, 22, 16, 56, 42, 38]\n"
          ]
        }
      ]
    },
    {
      "cell_type": "markdown",
      "source": [
        "aggiungere i primi 3 cognomi della classe in posizioe 1 all precedente vettore"
      ],
      "metadata": {
        "id": "9XMr0Jm8Q9qK"
      }
    },
    {
      "cell_type": "code",
      "source": [],
      "metadata": {
        "id": "5VYarqbAUePu"
      },
      "execution_count": null,
      "outputs": []
    }
  ]
}