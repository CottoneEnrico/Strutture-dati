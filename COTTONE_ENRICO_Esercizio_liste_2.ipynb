{
  "nbformat": 4,
  "nbformat_minor": 0,
  "metadata": {
    "colab": {
      "provenance": []
    },
    "kernelspec": {
      "name": "python3",
      "display_name": "Python 3"
    },
    "language_info": {
      "name": "python"
    }
  },
  "cells": [
    {
      "cell_type": "markdown",
      "source": [
        "##Esercizo in preparazione alla verifica"
      ],
      "metadata": {
        "id": "SDexScMGbRcj"
      }
    },
    {
      "cell_type": "markdown",
      "source": [
        "Caricare in una o più strutture dati adeguate i dati relativi alle squadre di calcio che hanno giocato la decima giornata del campionato. In particolare si è interessati a memorizzare le squadre che hanno giocato in casa, quelle che hanno giocato fuori casa, i gol fatti in ogni partita dalla squadra di casa e da quella ospite. Scrivere poi le istruzioni per avere le informazioni richieste nei vari esercizi"
      ],
      "metadata": {
        "id": "uOtyj2sHTbcS"
      }
    },
    {
      "cell_type": "code",
      "execution_count": null,
      "metadata": {
        "id": "7afOYm6zTYAD",
        "colab": {
          "base_uri": "https://localhost:8080/"
        },
        "outputId": "17e503a1-16b1-43b3-ae99-4b19b09a304f"
      },
      "outputs": [
        {
          "output_type": "stream",
          "name": "stdout",
          "text": [
            "Le squadre che hanno giocato a casa sono:  ['Empoli', 'Torino', 'Atalanta', 'Inter', 'Lazio', 'Spezia', 'Napoli', 'Verona', 'Sampdoria', 'Lecce']\n",
            "Le squadre che hanno giocato fuori casa sono:  ['Monza', 'Juventus', 'Sassuolo', 'Salernitana', 'Udinese', 'Cremonese', 'Bologna', 'Milan', 'Roma', 'Fiorentina']\n",
            "Questi sono i goal segnati dalle squadre che hanno giocato a casa:  [1, 0, 2, 2, 0, 2, 3, 1, 0, 1]\n",
            "Questi sono i goal segnati dalle squadre che hanno giocato fuori casa:  [0, 1, 1, 0, 0, 2, 2, 2, 1, 1]\n"
          ]
        }
      ],
      "source": [
        "SquadreCase   = [\"Empoli\", \"Torino\",   \"Atalanta\", \"Inter\",       \"Lazio\",   \"Spezia\",    \"Napoli\",  \"Verona\", \"Sampdoria\", \"Lecce\"]\n",
        "SquadreOspiti = [\"Monza\",  \"Juventus\", \"Sassuolo\", \"Salernitana\", \"Udinese\", \"Cremonese\", \"Bologna\", \"Milan\" , \"Roma\",      \"Fiorentina\"]\n",
        "\n",
        "Goal_Casa   = [1,0,2,2,0,2,3,1,0,1]\n",
        "Goal_Ospiti = [0,1,1,0,0,2,2,2,1,1]\n",
        "\n",
        "print(\"Le squadre che hanno giocato a casa sono: \", SquadreCase)\n",
        "print(\"Le squadre che hanno giocato fuori casa sono: \", SquadreOspiti)\n",
        "print(\"Questi sono i goal segnati dalle squadre che hanno giocato a casa: \", Goal_Casa)\n",
        "print(\"Questi sono i goal segnati dalle squadre che hanno giocato fuori casa: \", Goal_Ospiti)"
      ]
    },
    {
      "cell_type": "markdown",
      "source": [
        "1. visualizzare le partite che si sono giocate. Visualizzare i risultati nel formato **squadra1 - squadra2 : golSquadra1 - golSquadra2**, una partita sotto l'altra"
      ],
      "metadata": {
        "id": "anLe5NH_UPFX"
      }
    },
    {
      "cell_type": "code",
      "source": [
        "for i in range(len(SquadreCase)):\n",
        "  print(SquadreCase[i], \"-\", SquadreOspiti[i],\": \", Goal_Casa[i], \"-\", Goal_Ospiti[i])"
      ],
      "metadata": {
        "id": "OEIRK8frUmDH",
        "colab": {
          "base_uri": "https://localhost:8080/"
        },
        "outputId": "b1f4d4ee-29b3-4085-8184-7244e0cd0ab4"
      },
      "execution_count": null,
      "outputs": [
        {
          "output_type": "stream",
          "name": "stdout",
          "text": [
            "Empoli - Monza :  1 - 0\n",
            "Torino - Juventus :  0 - 1\n",
            "Atalanta - Sassuolo :  2 - 1\n",
            "Inter - Salernitana :  2 - 0\n",
            "Lazio - Udinese :  0 - 0\n",
            "Spezia - Cremonese :  2 - 2\n",
            "Napoli - Bologna :  3 - 2\n",
            "Verona - Milan :  1 - 2\n",
            "Sampdoria - Roma :  0 - 1\n",
            "Lecce - Fiorentina :  1 - 1\n"
          ]
        }
      ]
    },
    {
      "cell_type": "markdown",
      "source": [
        "2. visualizzare l'elenco in ordine alfabetico delle squadre che hanno vinto. Caricare i nomi in una nuova lista chiamata **squadreV**"
      ],
      "metadata": {
        "id": "BNb9qu-cVJ2d"
      }
    },
    {
      "cell_type": "code",
      "source": [
        "squadreV = []\n",
        "for index in range(len(Goal_Casa)):\n",
        "  if Goal_Casa[index] > Goal_Ospiti[index]:\n",
        "    squadreV.append(SquadreCase[index])\n",
        "  elif Goal_Ospiti[index] > Goal_Casa[index]:\n",
        "    squadreV.append(SquadreOspiti[index])\n",
        "squadreV.sort()\n",
        "print(squadreV)"
      ],
      "metadata": {
        "id": "NWvhhclUVPKy",
        "colab": {
          "base_uri": "https://localhost:8080/"
        },
        "outputId": "4279d4e5-8636-4ffe-f172-a01782eafd59"
      },
      "execution_count": null,
      "outputs": [
        {
          "output_type": "stream",
          "name": "stdout",
          "text": [
            "['Atalanta', 'Empoli', 'Inter', 'Juventus', 'Milan', 'Napoli', 'Roma']\n"
          ]
        }
      ]
    },
    {
      "cell_type": "markdown",
      "source": [
        "3. visualizzare l'elenco in ordine alfabetico delle squadre che hanno perso. Caricare i nomi in una nuova lista chiamata **squadreP**"
      ],
      "metadata": {
        "id": "ZpSNMANmVPhh"
      }
    },
    {
      "cell_type": "code",
      "source": [
        "squadreP = []\n",
        "for index in range(len(Goal_Casa)):\n",
        "  if Goal_Casa[index] < Goal_Ospiti[index]:\n",
        "    squadreP.append(SquadreCase[index])\n",
        "  elif Goal_Ospiti[index] < Goal_Casa[index]:\n",
        "    squadreP.append(SquadreOspiti[index])\n",
        "squadreP.sort()\n",
        "print(squadreP)\n"
      ],
      "metadata": {
        "id": "vH6wz6ZhViJg",
        "colab": {
          "base_uri": "https://localhost:8080/"
        },
        "outputId": "4c2f992a-9800-4afe-b15a-045fbdd437e5"
      },
      "execution_count": null,
      "outputs": [
        {
          "output_type": "stream",
          "name": "stdout",
          "text": [
            "['Bologna', 'Monza', 'Salernitana', 'Sampdoria', 'Sassuolo', 'Torino', 'Verona']\n"
          ]
        }
      ]
    },
    {
      "cell_type": "markdown",
      "source": [
        "4. utilizzare i dati presenti nelle due liste precedentemente create per permettere all'utente di sapere se una squadra ha pareggiato o meno. L'utente inserisce il nome della squadra e il programma risponde visualizzando la stringa **'la squadra \\<nomeSquadraInserita\\> ha pareggiato'** o **'la squadra \\<nomeSquadraInserita\\> non pareggiato'**"
      ],
      "metadata": {
        "id": "CztpE9kyVilA"
      }
    },
    {
      "cell_type": "code",
      "source": [
        "input_squadra = input(\"inserire una squadra: \")\n",
        "if input_squadra in squadreV or input_squadra in squadreP:\n",
        "  print(input_squadra, \" Non ha pareggiato.\")\n",
        "else:\n",
        "  print(\"la squadra\", input_squadra, \"ha pareggiato\")"
      ],
      "metadata": {
        "id": "3VzlSMzAV8K6",
        "colab": {
          "base_uri": "https://localhost:8080/"
        },
        "outputId": "0176123d-56c8-4fa6-8f77-93b1b9e3f699"
      },
      "execution_count": null,
      "outputs": [
        {
          "output_type": "stream",
          "name": "stdout",
          "text": [
            "inserire una squadra: Monza\n",
            "Monza  Non ha pareggiato.\n"
          ]
        }
      ]
    },
    {
      "cell_type": "markdown",
      "source": [
        "5. visualizzare il numero di partite in cui c'è stato un pareggio"
      ],
      "metadata": {
        "id": "8wpASWr6V8xA"
      }
    },
    {
      "cell_type": "code",
      "source": [
        "pareggiAmount = 0\n",
        "for pareggio in range(len(Goal_Casa)):\n",
        "  if Goal_Casa[pareggio] == Goal_Ospiti[pareggio]:\n",
        "      pareggiAmount += 1\n",
        "print(pareggiAmount)"
      ],
      "metadata": {
        "id": "WP-YdTifWs8G",
        "colab": {
          "base_uri": "https://localhost:8080/"
        },
        "outputId": "b6b2c759-2f2f-49cd-a271-a04e7823831a"
      },
      "execution_count": null,
      "outputs": [
        {
          "output_type": "stream",
          "name": "stdout",
          "text": [
            "3\n"
          ]
        }
      ]
    },
    {
      "cell_type": "markdown",
      "source": [
        "Caricare in altre struttura dati la classifica **prima** della decima giornata, ordinata in ordine decrescente a partire dalla squadra con più punti. Chiamare la struttura dati **classifica09**"
      ],
      "metadata": {
        "id": "QV2p7qfTWtY8"
      }
    },
    {
      "cell_type": "code",
      "source": [
        "classifica09 = [23,       21,         20,      20,        20,      19,     15,      13,         12,         11,       10,            10,      9,            8,        8,        7,       7,         5,               3,           3]\n",
        "squadre09 =    [\"Napoli\", \"Atalanta\", \"Lazio\", \"Udinese\", \"Milan\", \"Roma\", \"Inter\", \"Juventus\", \"Sassuolo\", \"Torino\", \"Salernitana\", \"Monza\", \"Fiorentina\", \"Empoli\", \"Spezia\", \"Lecce\", \"Bologna\", \"Hellas Verona\", \"Cremonese\", \"Samdoria\"]\n",
        "\n"
      ],
      "metadata": {
        "id": "0t0dJa8lW3d4"
      },
      "execution_count": null,
      "outputs": []
    },
    {
      "cell_type": "markdown",
      "source": [
        "6. visualizzare la classifica. Visualizzare il nome della squadra e i suoi punti. Visualizzare poi le prime 6 squadre che, se il campionato finisse oggi, si qualificherebbero per accedere alle competizioni europee"
      ],
      "metadata": {
        "id": "7ZdhHj6GW31P"
      }
    },
    {
      "cell_type": "code",
      "source": [
        "for index in range(len(classifica09)):\n",
        "  print(squadre09[index], \"-\", classifica09[index])\n",
        "print(squadre09[:6])"
      ],
      "metadata": {
        "id": "MlNaWI6mXIYe",
        "colab": {
          "base_uri": "https://localhost:8080/"
        },
        "outputId": "b8c36832-6f04-4064-ad3c-948d17b55595"
      },
      "execution_count": null,
      "outputs": [
        {
          "output_type": "stream",
          "name": "stdout",
          "text": [
            "Napoli - 23\n",
            "Atalanta - 21\n",
            "Lazio - 20\n",
            "Udinese - 20\n",
            "Milan - 20\n",
            "Roma - 19\n",
            "Inter - 15\n",
            "Juventus - 13\n",
            "Sassuolo - 12\n",
            "Torino - 11\n",
            "Salernitana - 10\n",
            "Monza - 10\n",
            "Fiorentina - 9\n",
            "Empoli - 8\n",
            "Spezia - 8\n",
            "Lecce - 7\n",
            "Bologna - 7\n",
            "Hellas Verona - 5\n",
            "Cremonese - 3\n",
            "Samdoria - 3\n",
            "['Napoli', 'Atalanta', 'Lazio', 'Udinese', 'Milan', 'Roma']\n"
          ]
        }
      ]
    },
    {
      "cell_type": "markdown",
      "source": [
        "7. aggiornare la classifica con i risultati della decima giornata. Inserire la nuova classifica in una nuova lista chiamata **classifica10**"
      ],
      "metadata": {
        "id": "WHTPsWQuXI8P"
      }
    },
    {
      "cell_type": "code",
      "source": [
        "classifica10 = [26,       24, 23, 21, 21, 19, 18, 16, 12, 11, 11, 10, 10, 9, 9, 7, 7, 5, 4, 3]\n",
        "squadre10 =    [\"Napoli\", \"Atalanta\", \"Milan\", \"Lazio\", \"Udinese\", \"Roma\", \"Inter\", \"Juventus\", \"Sassuolo\", \"Empoli\", \"Torino\", \"Salernitana\", \"Monza\", \"Fiorentina\", \"Spezia\", \"Lecce\", \"Bologna\", \"Hellas Verona\", \"Cremonese\", \"Samdoria\"]"
      ],
      "metadata": {
        "id": "IbellgF5XZDJ"
      },
      "execution_count": null,
      "outputs": []
    },
    {
      "cell_type": "markdown",
      "source": [
        "8. visualizzare le squadre che hanno cambiato posizione in classifica, quelle cioè che **non** occupano lo stesso posto in classifica09 e classifica10"
      ],
      "metadata": {
        "id": "Zhqh9_C0XPum"
      }
    },
    {
      "cell_type": "code",
      "source": [
        "for index in range(len(classifica10)):\n",
        "  if squadre10[index] != squadre09[index]:\n",
        "    print(squadre10[index])"
      ],
      "metadata": {
        "id": "pcM4naDAYbC3",
        "colab": {
          "base_uri": "https://localhost:8080/"
        },
        "outputId": "0feb82a2-75ea-4f96-ef0d-2ce7475c72cf"
      },
      "execution_count": null,
      "outputs": [
        {
          "output_type": "stream",
          "name": "stdout",
          "text": [
            "Milan\n",
            "Lazio\n",
            "Udinese\n",
            "Empoli\n",
            "Torino\n",
            "Salernitana\n",
            "Monza\n",
            "Fiorentina\n"
          ]
        }
      ]
    },
    {
      "cell_type": "markdown",
      "source": [
        "Caricare i dati relativi ai gol fatti e subiti dopo la decima giornata. Chiamare le strutture dati **GoalFatti** e **GoalSubiti**"
      ],
      "metadata": {
        "id": "haIAClbwYblb"
      }
    },
    {
      "cell_type": "code",
      "source": [
        "GoalFatti      = [25,       16,         20,      21,      19,        12,     18,      13,         12,         9,        8,        12,            9,       7,            9,        8,       10,        9,               9,           5         ]\n",
        "GoalSubiti     = [9,        6,          10,      5,       10,        9,      14,      7,          12,         11,       12,       16,            15,      11,           19,       11,      17,        19,              21,          17        ]\n",
        "squadreConGoal = [\"Napoli\", \"Atalanta\", \"Milan\", \"Lazio\", \"Udinese\", \"Roma\", \"Inter\", \"Juventus\", \"Sassuolo\", \"Empoli\", \"Torino\", \"Salernitana\", \"Monza\", \"Fiorentina\", \"Spezia\", \"Lecce\", \"Bologna\", \"Hellas Verona\", \"Cremonese\", \"Samdoria\"]"
      ],
      "metadata": {
        "id": "rKPUTVvtYuL4"
      },
      "execution_count": null,
      "outputs": []
    },
    {
      "cell_type": "markdown",
      "source": [
        "9. visualizzare la squadra che ha fatto più gol"
      ],
      "metadata": {
        "id": "t8vN8HuGYunx"
      }
    },
    {
      "cell_type": "code",
      "source": [
        "print(squadreConGoal[GoalFatti.index(max(GoalFatti))])"
      ],
      "metadata": {
        "id": "S6dsABWgYyKQ",
        "colab": {
          "base_uri": "https://localhost:8080/"
        },
        "outputId": "aced1b0e-39ff-427a-92aa-3edd686bfe15"
      },
      "execution_count": null,
      "outputs": [
        {
          "output_type": "stream",
          "name": "stdout",
          "text": [
            "Napoli\n"
          ]
        }
      ]
    },
    {
      "cell_type": "markdown",
      "source": [
        "10. visualizzare la squadra che ha fatto meno gol"
      ],
      "metadata": {
        "id": "bRPgADnxYynX"
      }
    },
    {
      "cell_type": "code",
      "source": [
        "print(squadreConGoal[GoalFatti.index(min(GoalFatti))])"
      ],
      "metadata": {
        "id": "qKCoZzOJY3Ix",
        "colab": {
          "base_uri": "https://localhost:8080/"
        },
        "outputId": "23e5a054-b7ed-4eb6-ebe5-b37ab047965a"
      },
      "execution_count": null,
      "outputs": [
        {
          "output_type": "stream",
          "name": "stdout",
          "text": [
            "Samdoria\n"
          ]
        }
      ]
    },
    {
      "cell_type": "markdown",
      "source": [
        "11. visualizzare il numero medio di gol fatti dalle squadre"
      ],
      "metadata": {
        "id": "75SjNLTaY3gx"
      }
    },
    {
      "cell_type": "code",
      "source": [
        "from statistics import mean\n",
        "print(mean(GoalFatti))"
      ],
      "metadata": {
        "id": "KgEqym2sY7L5",
        "colab": {
          "base_uri": "https://localhost:8080/"
        },
        "outputId": "04dcf60f-88e9-4f8b-bb33-2dc7799e243e"
      },
      "execution_count": null,
      "outputs": [
        {
          "output_type": "stream",
          "name": "stdout",
          "text": [
            "12.55\n"
          ]
        }
      ]
    },
    {
      "cell_type": "markdown",
      "source": [
        "12 visualizzare i nomi delle squadre che hanno fatto più gol della media"
      ],
      "metadata": {
        "id": "m8e4n6PkY7gZ"
      }
    },
    {
      "cell_type": "code",
      "source": [
        "for index in range(len(GoalFatti)):\n",
        "  if GoalFatti[index] > mean(GoalFatti):\n",
        "    print(squadreConGoal[index])\n"
      ],
      "metadata": {
        "id": "WYVVzvseZR1C",
        "colab": {
          "base_uri": "https://localhost:8080/"
        },
        "outputId": "0e3e6cb2-02cf-43f8-c1bf-ab958b40c848"
      },
      "execution_count": null,
      "outputs": [
        {
          "output_type": "stream",
          "name": "stdout",
          "text": [
            "Napoli\n",
            "Atalanta\n",
            "Milan\n",
            "Lazio\n",
            "Udinese\n",
            "Inter\n",
            "Juventus\n"
          ]
        }
      ]
    },
    {
      "cell_type": "markdown",
      "source": [
        "13. calcolare la differenza reti delle varie squadre: caricare i risultati in una nuova lista chiamata **differenzaReti**"
      ],
      "metadata": {
        "id": "ybyMSXlyZSYI"
      }
    },
    {
      "cell_type": "code",
      "source": [
        "differenzaReti = [GoalFatti[index] - GoalSubiti[index] for index in range(len(GoalFatti))]\n",
        "print(differenzaReti)"
      ],
      "metadata": {
        "id": "wFuTrkm6Z9nI",
        "colab": {
          "base_uri": "https://localhost:8080/"
        },
        "outputId": "50fd8933-384e-4d34-a17f-91b07ec9f796"
      },
      "execution_count": null,
      "outputs": [
        {
          "output_type": "stream",
          "name": "stdout",
          "text": [
            "[16, 10, 10, 16, 9, 3, 4, 6, 0, -2, -4, -4, -6, -4, -10, -3, -7, -10, -12, -12]\n"
          ]
        }
      ]
    },
    {
      "cell_type": "markdown",
      "source": [
        "14. visualizzare i nomi delle squadre che hanno una differenza reti positiva"
      ],
      "metadata": {
        "id": "C-oNfGQoZ-d1"
      }
    },
    {
      "cell_type": "code",
      "source": [
        "for index in range(len(GoalFatti)):\n",
        "  if differenzaReti[index] >= 0:\n",
        "     print(squadreConGoal[index])"
      ],
      "metadata": {
        "id": "lddcG_oQaDKk",
        "colab": {
          "base_uri": "https://localhost:8080/"
        },
        "outputId": "a5eed40f-2cea-4d16-e496-7b39e7ad9132"
      },
      "execution_count": null,
      "outputs": [
        {
          "output_type": "stream",
          "name": "stdout",
          "text": [
            "Napoli\n",
            "Atalanta\n",
            "Milan\n",
            "Lazio\n",
            "Udinese\n",
            "Roma\n",
            "Inter\n",
            "Juventus\n",
            "Sassuolo\n"
          ]
        }
      ]
    },
    {
      "cell_type": "markdown",
      "source": [
        "15. visualizzare i nomi delle squadre che hanno subito più gol di quelli che hanno fatto"
      ],
      "metadata": {
        "id": "AY7CHxuHaD2x"
      }
    },
    {
      "cell_type": "code",
      "source": [
        "for index in range(len(GoalSubiti)):\n",
        "  if GoalSubiti[index] > GoalFatti[index]:\n",
        "    print(squadreConGoal[index])"
      ],
      "metadata": {
        "id": "RqxyOuMiaJF4",
        "colab": {
          "base_uri": "https://localhost:8080/"
        },
        "outputId": "f756428f-c426-4ff2-bd3a-491852ea8b89"
      },
      "execution_count": null,
      "outputs": [
        {
          "output_type": "stream",
          "name": "stdout",
          "text": [
            "Empoli\n",
            "Torino\n",
            "Salernitana\n",
            "Monza\n",
            "Fiorentina\n",
            "Spezia\n",
            "Lecce\n",
            "Bologna\n",
            "Hellas Verona\n",
            "Cremonese\n",
            "Samdoria\n"
          ]
        }
      ]
    },
    {
      "cell_type": "markdown",
      "source": [
        "16. visualizzare le squadre che hanno fatto tanti gol quanti ne hanno subiti"
      ],
      "metadata": {
        "id": "xfKz1Q1DaJ6x"
      }
    },
    {
      "cell_type": "code",
      "source": [
        "for index in range(len(GoalFatti)):\n",
        "  if GoalFatti[index] == GoalSubiti[index]:\n",
        "    print(squadreConGoal[index])"
      ],
      "metadata": {
        "id": "ZR3qBDmxad95",
        "colab": {
          "base_uri": "https://localhost:8080/"
        },
        "outputId": "e48b0b56-cfbc-46e9-f4e2-483359644c07"
      },
      "execution_count": null,
      "outputs": [
        {
          "output_type": "stream",
          "name": "stdout",
          "text": [
            "Sassuolo\n"
          ]
        }
      ]
    },
    {
      "cell_type": "markdown",
      "source": [
        "17. calcolare la somma delle differenze reti di tutte le squadre"
      ],
      "metadata": {
        "id": "tjnIm62canB6"
      }
    },
    {
      "cell_type": "code",
      "source": [
        "print(sum(differenzaReti))"
      ],
      "metadata": {
        "id": "jc__1facatut",
        "colab": {
          "base_uri": "https://localhost:8080/"
        },
        "outputId": "cf29e11c-1a37-4e12-d2ad-6c5c08a45f11"
      },
      "execution_count": null,
      "outputs": [
        {
          "output_type": "stream",
          "name": "stdout",
          "text": [
            "0\n"
          ]
        }
      ]
    },
    {
      "cell_type": "markdown",
      "source": [
        "18. visualizzare le squadre della classifica che, se il campionato finisse oggi, sarebbero retrocesse. Scrivere il codice in modo che si possa utilizzare in qualunque giornata del campionato."
      ],
      "metadata": {
        "id": "euh8fSkcaueh"
      }
    },
    {
      "cell_type": "code",
      "source": [
        "print(squadre10[-3:])"
      ],
      "metadata": {
        "id": "cv7kI0sgbMnz",
        "colab": {
          "base_uri": "https://localhost:8080/"
        },
        "outputId": "77efc3d9-4e20-4256-8b4f-8e74084d6931"
      },
      "execution_count": null,
      "outputs": [
        {
          "output_type": "stream",
          "name": "stdout",
          "text": [
            "['Hellas Verona', 'Cremonese', 'Samdoria']\n"
          ]
        }
      ]
    }
  ]
}